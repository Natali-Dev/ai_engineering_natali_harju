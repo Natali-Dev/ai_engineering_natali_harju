{
 "cells": [
  {
   "cell_type": "markdown",
   "id": "c381a377",
   "metadata": {},
   "source": [
    "\n",
    "## Theory\n",
    "\n",
    "a) What is supervised learning and give 2-3 examples of supervised learning?\n",
    "- supervised learning är när man har ett \"facit\" (rätt svar på labels/target).\n",
    "- Bildklassificering, prisprediktion, spamfilter\n",
    "b) What are the differences between classification and regression?\n",
    "- regression är att predicta kontinueliga värden (huspriser)\n",
    "- classification är att predicta grupper (hund/katt)\n",
    "\n",
    "c) Why split into train/validation/test sets?\n",
    "- Då kan man anväda val-delen för att hitta en hyperparameter, tex n_neighbours/k, så man inte orsakar data leakage. \n",
    "\n",
    "d) How does feature scaling impact KNN?\n",
    "- KNN mäter avstånd, så utan scaling kan features (X) med stora värden dominera\n",
    "e) How to find a k value for KNN?\n",
    "- dela upp datan i en val-del, (scala allt om det behövs), träna modellen på train-data och predicta på val-data. räkna ut accuarcy och spara i en lista, hitta sedan de index som hade bäst score och välj detta index (+1) som k\n",
    "f) What are common metrics for evaluating classifcation?\n",
    "accuracy : Missvisande vid obalanserad data\n",
    "precision : straffar FP \n",
    "recall : staffar FN\n",
    "f1 : medel mellan precision och recall\n",
    "support : antal exempel \n",
    "\n",
    "g) A fire alarm has 98% accuracy, but gets false positives, how could this impact if it is a good fire alarm or not?\n",
    "- Det är ju bättre att den har FP än FN, men det är inte bra oavsett. Man bör ha mest koll på recall så man inte missar en riktig brand. \n",
    "\n",
    "h) For a covid quick screening test, what metric out of accuracy, recall and precision would you choose and why?\n",
    "\n",
    "- recall, som straffar FN. Bättre att modellen gör fel på de som är friska än en som är sjuk. \n",
    "\n",
    "## Glossary\n",
    "\n",
    "Fill in this table either by copying this into your own markdown file or copy it into a spreadsheet if you feel that is easier to work with.\n",
    "\n",
    "| terminology    | explanation |\n",
    "| -------------- | ----------- |\n",
    "| target         | Det vi vill predicta            |\n",
    "| training set   | Data som är uppdelad i train-del. Det vi tränar modellen på            |\n",
    "| validation set | Data som är uppdelad i validation-del. Bra för att hitta hyperparametrar, tex. k            |\n",
    "| test set       | Data som är uppdelad i test-del. Det vi predictar på           |\n",
    "| recall         | Staffar FN            |\n",
    "| precision      | Staffar FP             |\n",
    "| f1 score       | Medel mellan precision och recall            |\n",
    "| regularization | Teknik för att undvika overfitting genom att staffa för komplexa modeller            |\n",
    "| hyperparameter | Inställning som inte lärs av datan, tex. k är detta            |\n",
    "| overfitting    | modellen är tränad för bra på träningsdata, predictar dåligt på ny data             |\n",
    "| underfitting   | modellen är för enkel, kan inte förutspå majoriteten av datan. misslyckas på träning och test            |\n",
    "| feature        | Det vi använder för att räkna fram vår target            |\n",
    "|                |             |\n",
    "|                |             |"
   ]
  }
 ],
 "metadata": {
  "language_info": {
   "name": "python"
  }
 },
 "nbformat": 4,
 "nbformat_minor": 5
}
