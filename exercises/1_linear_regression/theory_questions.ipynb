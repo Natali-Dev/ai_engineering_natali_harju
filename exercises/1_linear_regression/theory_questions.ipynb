{
 "cells": [
  {
   "cell_type": "markdown",
   "id": "54f637d5",
   "metadata": {},
   "source": [
    "## 4. Theory questions\n",
    "\n",
    "a) Draw an illustration of how machine learning, deep learning and artificial intelligence relate to each other and explain it with your own words.\n",
    "AI = Simulering av mänsklig intelligens. Målet är att skapa maskiner eller program som kan utföra uppgifter som typiskt behöver mänsklig intelligens\n",
    "ML = Algoritmer lär sig mönster från data. Vi skickar in data och resultat -> regler. (Istället för som i ett program, så skickar vi in regler och data -> resultat)\n",
    "Deep learning = Ett delområde i ML med neurala nätverk med många lager. Genom Deep Learning så kan algoritmerna lära sig mer komplexa samband. Exempel, generativ AI, Natural language proccecing, Computer Vision. \n",
    "- AI -->\n",
    "- ------->ML \n",
    "-        -->Deep Learning\n",
    "\n",
    "b) What is the main difference between regression and classification?\n",
    "- regreission är prediktion av kontinueliga värden, (en rät linje där punkterna hålls nära linjen). \n",
    "- classification är prediktion av grupper, tex grupp 1, grupp 2, eller katt/hund.  \n",
    "\n",
    "c) Give an example of a problem that can be solved with regression\n",
    "- Huspriser, såld glass baserat på temperatur. När vi har en target (Y) som baseras på features (X)\n",
    "\n",
    "d) What does scaling data mean, and why do some machine learning algorithm require data to be scaled?\n",
    "- scaling är att omvandla datan till samma skala, tex med min-max så transformeras det till 0-1. Varför det behövs är för att vissa algoritmer (tex, kNN, SVM, gradient descent-baserade metoder) fungerar bättre när features har en jämförbar skala\n",
    "\n",
    "e) What is the purpose to split the data into a training part and a test part?\n",
    "- Att dela upp datan i en tränings-del (tex 70%) och en test-del (då 30% om man inte vill ha en valideringsdel), har syftet att man då tränar modellen på 70 % av datan, och utvärderar modellen på TEST-datan som den inte har fått se under träning. Testdelen visar då om modellen generaliserar bra och inte overfittar (helt enkelt att modellen lär sig ***för*** bra, inklusive brus och slumpmässiga variationer. Modellen kommer då prestera **mycket bra** på träningsdata, men inte på test/ny data. Händer oftast pga: För komplex modell, finns för lite data). \n",
    "\n",
    "f) What is data leakage, why is it bad and how can you avoid it?\n",
    "- när man har använt TEST-datan när man TRÄNAR modellen. Dåligt för att modellen kommer visa orealistiskt bra resultat vid utvärdering som alltid sker på just TEST data. \n",
    "- det vi vill är att träna på träningsdata och sedan utvärdera på testdata\n",
    "\n",
    "g) What are some common evaluation metrics for regression models?\n",
    "- mae, mse, rmse\n",
    "## Glossary\n",
    "\n",
    "Fill in this table either by copying this into your own markdown file or copy it into a spreadsheet if you feel that is easier to work with.\n",
    "\n",
    "| Terminology          | Meaning |\n",
    "| :------------------- | ------: |\n",
    "| supervised learning  |         |\n",
    "| machine learning     |         |\n",
    "| data science         |         |\n",
    "| data engineering     |         |\n",
    "| algorithm            |         |\n",
    "| regression           |         |\n",
    "| classification       |         |\n",
    "| qualitative data     |         |\n",
    "| quantitative data    |         |\n",
    "| independent variable |         |\n",
    "| dependent variable   |         |\n",
    "| label                |         |\n",
    "| feature              |         |\n",
    "| model                |         |\n",
    "| training             |         |\n",
    "| evaluation           |         |\n",
    "| prediction           |         |"
   ]
  },
  {
   "cell_type": "code",
   "execution_count": null,
   "id": "6b0f0341",
   "metadata": {},
   "outputs": [],
   "source": []
  },
  {
   "cell_type": "code",
   "execution_count": null,
   "id": "102a0530",
   "metadata": {},
   "outputs": [],
   "source": []
  },
  {
   "cell_type": "code",
   "execution_count": null,
   "id": "61b7d4c8",
   "metadata": {},
   "outputs": [],
   "source": []
  },
  {
   "cell_type": "code",
   "execution_count": null,
   "id": "902ea0d2",
   "metadata": {},
   "outputs": [],
   "source": []
  }
 ],
 "metadata": {
  "kernelspec": {
   "display_name": "ai_engineering_natali_harju (3.12.8)",
   "language": "python",
   "name": "python3"
  },
  "language_info": {
   "name": "python",
   "version": "3.12.8"
  }
 },
 "nbformat": 4,
 "nbformat_minor": 5
}
