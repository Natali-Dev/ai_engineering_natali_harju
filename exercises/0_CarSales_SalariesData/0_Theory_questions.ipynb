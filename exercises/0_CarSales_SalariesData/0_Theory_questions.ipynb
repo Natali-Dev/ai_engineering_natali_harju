{
 "cells": [
  {
   "cell_type": "markdown",
   "id": "ffd48740",
   "metadata": {},
   "source": [
    "## 2. Theory questions\n",
    "\n",
    "&nbsp; a) Why could it be good to combine duckdb and pandas?\n",
    "- Blir enklare, duckdb-SQL är kraftfullare och kan vara enklare än pandas om man vill göra komplexa uträkningar. Pandas är smidigare att använda för mindre saker. \n",
    "\n",
    "&nbsp; b) How do you create a DataFrame in Pandas from a dictionary, a list of dictionaries, and a CSV file, json object?\n",
    "```py\n",
    "- from dictionary:                pd.DataFrame(my_dict.items(), column=[\"column_names\"])\n",
    "- from a list of dictionarys:     my_dict_list =[ my_dict, my_dict2], my_df = pd.DataFrame(my_dict_list)\n",
    "- from csv file:                  pd.read_csv(\"file_path\")\n",
    "- from json object:               df = pd.DataFrame(json) ELLER ([json]) om man vill ha alla inre listor på samma rad\n",
    "```\n",
    "&nbsp; c) What is the difference between .loc[] and .iloc[] for indexing in Pandas?\n",
    "- loc [Label LOCation] kan du göra på strings/namn, iloc [Integer LOCation] gör du på int/index \n",
    " \n",
    "&nbsp; d) What is the purpose of the .groupby() method in Pandas? How is it used in data aggregation?\n",
    "- groupby gör en gruppering på de kolumner du anger. Du måste aggregera något då också för att den ska kunna sammanställa. Tex så grupperar den alla liknade job_titles och tex. summerar total_jobs.\n",
    "\n",
    "&nbsp; e) How do you export a pandas dataframe into a csv file?\n",
    "- my_df.to_csv(\"file_name.csv\")\n",
    "\n",
    "&nbsp; f) How do you save a pandas dataframe into a duckdb database?\n",
    "- con = duckdb.connect(\"db_name.duckdb\") #Skapa db\n",
    "- con.from_df(my_df).create(\"table_name\") #Skaba table med angivet namn och skicka in DF\n",
    "- con.close() #stäng connection"
   ]
  },
  {
   "cell_type": "markdown",
   "id": "e9595dd8",
   "metadata": {},
   "source": [
    "| terminology           | explanation |\n",
    "| --------------------- | ----------- |\n",
    "| dataframe             | En tabell, som är väldigt läsbar            |\n",
    "| series                | En tabell, i repr-format             |\n",
    "| pandas concat         | en pd-metod för att sätta ihop flera DF eller series, antingen rader eller kolumner            |\n",
    "| pandas apply         | en pd-metod där du kan tillämpa en funktion på varje rad eller kolumn. tex plussa ihop värden            |\n",
    "| csv                   | Comma Separated Values            |\n",
    "| pandas isnull         | En metod som returnerar en bool, True/False - radernas värde byts ut mot dessa, True=Är null             |\n",
    "| masking in pandas     | Använda boolska värden för att filtrera: df[\"col\"] > 12 eller df[df[\"col\"] > 12]             |\n",
    "| pandas transpose      | .T, byter plats på rader och kolumner i en DF            |\n",
    "| pandas value_counts() | Summerar och räknar antal unika värden för den kolumn du angivit            |\n",
    "| json                  | Ett \"språk\" för en fil, liknar dictionary            |\n",
    "| tabular data          | Data som är organiserad i rader och kolumner, som i en tabell eller en DF. En series kan ses som en tabell med en variabel. En DF är en samling av flera series - varje kolumn är en series            |\n",
    "| zero-based indexing   | Tex som i Python börjar index alltid på 0.              |\n",
    "| join                  | blir inner om du inte väljer en annan, möjliggör att slå ihop olika tabeller på gemensamma kolumner.         |\n",
    "| left join             | joinar på de rader som matchar och behåller även de som inte matchar. finns också right som fungerar på samma sätt men de nya kolumnerna hamnar då till höger            |\n",
    "| inner join            | Joinar bara på de rader som matchar och tar bort övrigt              |\n",
    "| group by              | gruppera på angiven kolumn, sedan måste en aggrigering ske för att datan ska kunna sammanställas            |\n",
    "|                       |             |\n"
   ]
  },
  {
   "cell_type": "code",
   "execution_count": null,
   "id": "41a6ecc1",
   "metadata": {},
   "outputs": [],
   "source": [
    "import pandas as pd\n",
    "import duckdb\n",
    "# json = {\n",
    "#   \"id\": 1,\n",
    "#   \"name\": \"Natali\",\n",
    "#   \"skills\": [\"Python\", \"SQL\", \"AI\"],\n",
    "#   \"active\": \"true\"\n",
    "# }\n",
    "# json\n",
    "# df = pd.DataFrame([json])\n",
    "# df\n",
    "my_dict = {1 : \"Hej\", 2 : \"Halloj\"}\n",
    "# # my_dict2 = {1 : \"Hejsan\", 2 : \"Tja\"}\n",
    "my_df = pd.DataFrame(list(my_dict.items()), columns=[\"col_1\", \"col_2\"])\n",
    "# # my_dict_list =[ my_dict, my_dict2]\n",
    "# # my_df = pd.DataFrame(my_dict_list)#, columns=[\"col_1\", \"col_2\"])\n",
    "# my_df = pd.DataFrame(my_dict.items(), columns=[\"värde\", \"fras\"])\n",
    "# # my_df.to_csv(\"fraser.csv\")\n",
    "# # # df = pd.read_csv(\"file_path\")\n",
    "my_df.isnull()\n",
    "con = duckdb.connect(\"frases.duckdb\")\n",
    "\n",
    "con.from_df(my_df).create(\"Frases\")\n",
    "\n",
    "con.close()"
   ]
  }
 ],
 "metadata": {
  "kernelspec": {
   "display_name": "ai_engineering_natali_harju (3.12.8)",
   "language": "python",
   "name": "python3"
  },
  "language_info": {
   "codemirror_mode": {
    "name": "ipython",
    "version": 3
   },
   "file_extension": ".py",
   "mimetype": "text/x-python",
   "name": "python",
   "nbconvert_exporter": "python",
   "pygments_lexer": "ipython3",
   "version": "3.12.8"
  }
 },
 "nbformat": 4,
 "nbformat_minor": 5
}
