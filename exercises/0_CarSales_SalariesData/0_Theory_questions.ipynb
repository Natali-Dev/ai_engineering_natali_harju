{
 "cells": [
  {
   "cell_type": "markdown",
   "id": "ffd48740",
   "metadata": {},
   "source": [
    "## 2. Theory questions\n",
    "\n",
    "&nbsp; a) Why could it be good to combine duckdb and pandas?\n",
    "\n",
    "&nbsp; b) How do you create a DataFrame in Pandas from a dictionary, a list of dictionaries, and a CSV file, json object?\n",
    "\n",
    "&nbsp; c) What is the difference between .loc[] and .iloc[] for indexing in Pandas?\n",
    "\n",
    "&nbsp; d) What is the purpose of the .groupby() method in Pandas? How is it used in data aggregation?\n",
    "\n",
    "&nbsp; e) How do you export a pandas dataframe into a csv file?\n",
    "\n",
    "&nbsp; f) How do you save a pandas dataframe into a duckdb database?"
   ]
  },
  {
   "cell_type": "markdown",
   "id": "e9595dd8",
   "metadata": {},
   "source": [
    "| terminology           | explanation |\n",
    "| --------------------- | ----------- |\n",
    "| dataframe             |             |\n",
    "| series                |             |\n",
    "| pandas concat         |             |\n",
    "| pandas appply         |             |\n",
    "| csv                   |             |\n",
    "| pandas isnull         |             |\n",
    "| masking in pandas     |             |\n",
    "| pandas transpose      |             |\n",
    "| pandas value_counts() |             |\n",
    "| json                  |             |\n",
    "| tabular data          |             |\n",
    "| zero-based indexing   |             |\n",
    "| join                  |             |\n",
    "| left join             |             |\n",
    "| inner join            |             |\n",
    "| group by              |             |\n",
    "|                       |             |\n"
   ]
  }
 ],
 "metadata": {
  "language_info": {
   "name": "python"
  }
 },
 "nbformat": 4,
 "nbformat_minor": 5
}
